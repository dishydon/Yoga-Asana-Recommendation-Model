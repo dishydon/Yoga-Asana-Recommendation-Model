{
  "nbformat": 4,
  "nbformat_minor": 0,
  "metadata": {
    "colab": {
      "name": "Siddharth_NLP_ANN.ipynb",
      "provenance": [],
      "collapsed_sections": [],
      "include_colab_link": true
    },
    "kernelspec": {
      "name": "python3",
      "display_name": "Python 3"
    },
    "language_info": {
      "name": "python"
    }
  },
  "cells": [
    {
      "cell_type": "markdown",
      "metadata": {
        "id": "view-in-github",
        "colab_type": "text"
      },
      "source": [
        "<a href=\"https://colab.research.google.com/github/dishydon/Yoga-Asana-Recommendation-Model/blob/main/Siddharth_NLP_ANN.ipynb\" target=\"_parent\"><img src=\"https://colab.research.google.com/assets/colab-badge.svg\" alt=\"Open In Colab\"/></a>"
      ]
    },
    {
      "cell_type": "code",
      "execution_count": 2,
      "metadata": {
        "colab": {
          "base_uri": "https://localhost:8080/"
        },
        "id": "Y98B8JVuLf3A",
        "outputId": "055b6ebb-7199-477e-869e-45dd4eef19ba"
      },
      "outputs": [
        {
          "output_type": "stream",
          "name": "stdout",
          "text": [
            "Mounted at /content/drive\n"
          ]
        }
      ],
      "source": [
        "from google.colab import drive\n",
        "drive.mount('/content/drive')"
      ]
    },
    {
      "cell_type": "code",
      "source": [
        "import nltk\n",
        "nltk.download('stopwords')"
      ],
      "metadata": {
        "colab": {
          "base_uri": "https://localhost:8080/"
        },
        "id": "107J6IXUNSS-",
        "outputId": "6d4d3808-ab4f-4a6e-fb87-9e3db40fab66"
      },
      "execution_count": 3,
      "outputs": [
        {
          "output_type": "stream",
          "name": "stderr",
          "text": [
            "[nltk_data] Downloading package stopwords to /root/nltk_data...\n",
            "[nltk_data]   Unzipping corpora/stopwords.zip.\n"
          ]
        },
        {
          "output_type": "execute_result",
          "data": {
            "text/plain": [
              "True"
            ]
          },
          "metadata": {},
          "execution_count": 3
        }
      ]
    },
    {
      "cell_type": "code",
      "source": [
        "!pip install np_utils"
      ],
      "metadata": {
        "colab": {
          "base_uri": "https://localhost:8080/"
        },
        "id": "tjGLiDCY6HqA",
        "outputId": "b4de69ed-cc01-47e1-8787-41aba8d15f43"
      },
      "execution_count": 4,
      "outputs": [
        {
          "output_type": "stream",
          "name": "stdout",
          "text": [
            "Looking in indexes: https://pypi.org/simple, https://us-python.pkg.dev/colab-wheels/public/simple/\n",
            "Collecting np_utils\n",
            "  Downloading np_utils-0.6.0.tar.gz (61 kB)\n",
            "\u001b[K     |████████████████████████████████| 61 kB 398 kB/s \n",
            "\u001b[?25hRequirement already satisfied: numpy>=1.0 in /usr/local/lib/python3.7/dist-packages (from np_utils) (1.21.6)\n",
            "Building wheels for collected packages: np-utils\n",
            "  Building wheel for np-utils (setup.py) ... \u001b[?25l\u001b[?25hdone\n",
            "  Created wheel for np-utils: filename=np_utils-0.6.0-py3-none-any.whl size=56459 sha256=a29910a80c587b060189ab565aa8069976bb91b8e391f1a24a59b031d82fd9bc\n",
            "  Stored in directory: /root/.cache/pip/wheels/d2/83/71/a781667865955ae7dc18e5a4038401deb56d96eb85d3a5f1c0\n",
            "Successfully built np-utils\n",
            "Installing collected packages: np-utils\n",
            "Successfully installed np-utils-0.6.0\n"
          ]
        }
      ]
    },
    {
      "cell_type": "code",
      "source": [
        "import numpy as np\n",
        "import pandas as pd\n",
        "from plotly.offline import iplot\n",
        "import matplotlib.pyplot as plt\n",
        "import seaborn as sns\n",
        "from tensorflow.keras.preprocessing.text import Tokenizer\n",
        "from tensorflow.keras.preprocessing.sequence import pad_sequences\n",
        "from tensorflow.keras.models import Sequential\n",
        "from tensorflow.keras.layers import Dense, Embedding, LSTM, SpatialDropout1D\n",
        "from sklearn.model_selection import train_test_split\n",
        "from keras.utils.np_utils import to_categorical\n",
        "from tensorflow.keras.callbacks import EarlyStopping\n",
        "from tensorflow.keras.layers import Dropout\n",
        "import re\n",
        "from nltk.corpus import stopwords\n",
        "from nltk import word_tokenize\n",
        "STOPWORDS = set(stopwords.words('english'))"
      ],
      "metadata": {
        "id": "6NOmFs1U6Zil"
      },
      "execution_count": 5,
      "outputs": []
    },
    {
      "cell_type": "code",
      "source": [
        "df = pd.read_csv(\"/content/drive/MyDrive/final_data2.csv\")\n",
        "# df.fillna(\"\",inplace=True)"
      ],
      "metadata": {
        "id": "_cEinJmzxxT4"
      },
      "execution_count": 6,
      "outputs": []
    },
    {
      "cell_type": "code",
      "source": [
        "df.columns\n"
      ],
      "metadata": {
        "colab": {
          "base_uri": "https://localhost:8080/"
        },
        "id": "2hVOWE5R6zDQ",
        "outputId": "128ba84a-b96a-425b-c51d-3c64d4995d52"
      },
      "execution_count": 7,
      "outputs": [
        {
          "output_type": "execute_result",
          "data": {
            "text/plain": [
              "Index(['Benefits', 'Contraindication', 'Yoga Asan'], dtype='object')"
            ]
          },
          "metadata": {},
          "execution_count": 7
        }
      ]
    },
    {
      "cell_type": "code",
      "source": [
        "df=df.dropna()"
      ],
      "metadata": {
        "id": "VuszIbkaRd4B"
      },
      "execution_count": 8,
      "outputs": []
    },
    {
      "cell_type": "code",
      "source": [
        "df.reset_index()"
      ],
      "metadata": {
        "colab": {
          "base_uri": "https://localhost:8080/",
          "height": 424
        },
        "id": "2MUNPKDWRe5S",
        "outputId": "af429f0d-adc0-440a-e61e-eafe9332a1f1"
      },
      "execution_count": 9,
      "outputs": [
        {
          "output_type": "execute_result",
          "data": {
            "text/plain": [
              "     index                                           Benefits  \\\n",
              "0        0  Corrects bad posture by straightening the spin...   \n",
              "1        1  Relieves gastritis indigestion acidity and fla...   \n",
              "2        2  Improves breathing capacity by expanding the c...   \n",
              "3        3  Enhances lung capacity , Tones the muscles of ...   \n",
              "4        4  Cools the brain and soothes the nerves, Reliev...   \n",
              "..     ...                                                ...   \n",
              "507    583  Strengthens core, arms, shoulders, elbows and ...   \n",
              "508    584  Strengthens core, arms, and shoulders. Improve...   \n",
              "509    585                     Strengthens the core and arms.   \n",
              "510    586  Stretches the entire front body and opens the ...   \n",
              "511    587                  Stretches the shoulders and spine   \n",
              "\n",
              "                                      Contraindication  \\\n",
              "0    If you have Parkinson’s disease or a spinal di...   \n",
              "1    If you are prone to dizzy spells vertigo or hi...   \n",
              "2    Do not practise if you have a cardiac conditio...   \n",
              "3    If you have high blood pressure avoid this asa...   \n",
              "4    If you have high blood pressure or a cardiac c...   \n",
              "..                                                 ...   \n",
              "507         Hips,Knees,Shoulders,Back or Wrists Injury   \n",
              "508                   Hips,Knees,Shoulders,Back Injury   \n",
              "509      Shoulders,Hips,Wrists or Pelvic Muscle injury   \n",
              "510                             Arms,Hips,Knees Injury   \n",
              "511                 Pregnancy,Menstruation,Back Issues   \n",
              "\n",
              "                                           Yoga Asan  \n",
              "0                       TADASANA or MOUNTAIN POSTURE  \n",
              "1      UTTHITA TRIKONASANA or EXTENDED TRIANGLE POSE  \n",
              "2                 VIRABHADRASANA 2 or WARRIOR POSE 2  \n",
              "3    UTTHITA PARSVAKONASANA or EXTENDED SIDE STRETCH  \n",
              "4           PARSVOTTANASANA or INTENSE TORSO STRETCH  \n",
              "..                                               ...  \n",
              "507                             Kukkutasana(Rooster)  \n",
              "508                    Karandavasana(Himalayan Duck)  \n",
              "509                                Lolasana(Pendant)  \n",
              "510      Dvi Pada Viparita Dandasana(Inverted Staff)  \n",
              "511                     Supta Konasana(Supine Angle)  \n",
              "\n",
              "[512 rows x 4 columns]"
            ],
            "text/html": [
              "\n",
              "  <div id=\"df-7def3a12-0352-424c-95e6-2e0476916658\">\n",
              "    <div class=\"colab-df-container\">\n",
              "      <div>\n",
              "<style scoped>\n",
              "    .dataframe tbody tr th:only-of-type {\n",
              "        vertical-align: middle;\n",
              "    }\n",
              "\n",
              "    .dataframe tbody tr th {\n",
              "        vertical-align: top;\n",
              "    }\n",
              "\n",
              "    .dataframe thead th {\n",
              "        text-align: right;\n",
              "    }\n",
              "</style>\n",
              "<table border=\"1\" class=\"dataframe\">\n",
              "  <thead>\n",
              "    <tr style=\"text-align: right;\">\n",
              "      <th></th>\n",
              "      <th>index</th>\n",
              "      <th>Benefits</th>\n",
              "      <th>Contraindication</th>\n",
              "      <th>Yoga Asan</th>\n",
              "    </tr>\n",
              "  </thead>\n",
              "  <tbody>\n",
              "    <tr>\n",
              "      <th>0</th>\n",
              "      <td>0</td>\n",
              "      <td>Corrects bad posture by straightening the spin...</td>\n",
              "      <td>If you have Parkinson’s disease or a spinal di...</td>\n",
              "      <td>TADASANA or MOUNTAIN POSTURE</td>\n",
              "    </tr>\n",
              "    <tr>\n",
              "      <th>1</th>\n",
              "      <td>1</td>\n",
              "      <td>Relieves gastritis indigestion acidity and fla...</td>\n",
              "      <td>If you are prone to dizzy spells vertigo or hi...</td>\n",
              "      <td>UTTHITA TRIKONASANA or EXTENDED TRIANGLE POSE</td>\n",
              "    </tr>\n",
              "    <tr>\n",
              "      <th>2</th>\n",
              "      <td>2</td>\n",
              "      <td>Improves breathing capacity by expanding the c...</td>\n",
              "      <td>Do not practise if you have a cardiac conditio...</td>\n",
              "      <td>VIRABHADRASANA 2 or WARRIOR POSE 2</td>\n",
              "    </tr>\n",
              "    <tr>\n",
              "      <th>3</th>\n",
              "      <td>3</td>\n",
              "      <td>Enhances lung capacity , Tones the muscles of ...</td>\n",
              "      <td>If you have high blood pressure avoid this asa...</td>\n",
              "      <td>UTTHITA PARSVAKONASANA or EXTENDED SIDE STRETCH</td>\n",
              "    </tr>\n",
              "    <tr>\n",
              "      <th>4</th>\n",
              "      <td>4</td>\n",
              "      <td>Cools the brain and soothes the nerves, Reliev...</td>\n",
              "      <td>If you have high blood pressure or a cardiac c...</td>\n",
              "      <td>PARSVOTTANASANA or INTENSE TORSO STRETCH</td>\n",
              "    </tr>\n",
              "    <tr>\n",
              "      <th>...</th>\n",
              "      <td>...</td>\n",
              "      <td>...</td>\n",
              "      <td>...</td>\n",
              "      <td>...</td>\n",
              "    </tr>\n",
              "    <tr>\n",
              "      <th>507</th>\n",
              "      <td>583</td>\n",
              "      <td>Strengthens core, arms, shoulders, elbows and ...</td>\n",
              "      <td>Hips,Knees,Shoulders,Back or Wrists Injury</td>\n",
              "      <td>Kukkutasana(Rooster)</td>\n",
              "    </tr>\n",
              "    <tr>\n",
              "      <th>508</th>\n",
              "      <td>584</td>\n",
              "      <td>Strengthens core, arms, and shoulders. Improve...</td>\n",
              "      <td>Hips,Knees,Shoulders,Back Injury</td>\n",
              "      <td>Karandavasana(Himalayan Duck)</td>\n",
              "    </tr>\n",
              "    <tr>\n",
              "      <th>509</th>\n",
              "      <td>585</td>\n",
              "      <td>Strengthens the core and arms.</td>\n",
              "      <td>Shoulders,Hips,Wrists or Pelvic Muscle injury</td>\n",
              "      <td>Lolasana(Pendant)</td>\n",
              "    </tr>\n",
              "    <tr>\n",
              "      <th>510</th>\n",
              "      <td>586</td>\n",
              "      <td>Stretches the entire front body and opens the ...</td>\n",
              "      <td>Arms,Hips,Knees Injury</td>\n",
              "      <td>Dvi Pada Viparita Dandasana(Inverted Staff)</td>\n",
              "    </tr>\n",
              "    <tr>\n",
              "      <th>511</th>\n",
              "      <td>587</td>\n",
              "      <td>Stretches the shoulders and spine</td>\n",
              "      <td>Pregnancy,Menstruation,Back Issues</td>\n",
              "      <td>Supta Konasana(Supine Angle)</td>\n",
              "    </tr>\n",
              "  </tbody>\n",
              "</table>\n",
              "<p>512 rows × 4 columns</p>\n",
              "</div>\n",
              "      <button class=\"colab-df-convert\" onclick=\"convertToInteractive('df-7def3a12-0352-424c-95e6-2e0476916658')\"\n",
              "              title=\"Convert this dataframe to an interactive table.\"\n",
              "              style=\"display:none;\">\n",
              "        \n",
              "  <svg xmlns=\"http://www.w3.org/2000/svg\" height=\"24px\"viewBox=\"0 0 24 24\"\n",
              "       width=\"24px\">\n",
              "    <path d=\"M0 0h24v24H0V0z\" fill=\"none\"/>\n",
              "    <path d=\"M18.56 5.44l.94 2.06.94-2.06 2.06-.94-2.06-.94-.94-2.06-.94 2.06-2.06.94zm-11 1L8.5 8.5l.94-2.06 2.06-.94-2.06-.94L8.5 2.5l-.94 2.06-2.06.94zm10 10l.94 2.06.94-2.06 2.06-.94-2.06-.94-.94-2.06-.94 2.06-2.06.94z\"/><path d=\"M17.41 7.96l-1.37-1.37c-.4-.4-.92-.59-1.43-.59-.52 0-1.04.2-1.43.59L10.3 9.45l-7.72 7.72c-.78.78-.78 2.05 0 2.83L4 21.41c.39.39.9.59 1.41.59.51 0 1.02-.2 1.41-.59l7.78-7.78 2.81-2.81c.8-.78.8-2.07 0-2.86zM5.41 20L4 18.59l7.72-7.72 1.47 1.35L5.41 20z\"/>\n",
              "  </svg>\n",
              "      </button>\n",
              "      \n",
              "  <style>\n",
              "    .colab-df-container {\n",
              "      display:flex;\n",
              "      flex-wrap:wrap;\n",
              "      gap: 12px;\n",
              "    }\n",
              "\n",
              "    .colab-df-convert {\n",
              "      background-color: #E8F0FE;\n",
              "      border: none;\n",
              "      border-radius: 50%;\n",
              "      cursor: pointer;\n",
              "      display: none;\n",
              "      fill: #1967D2;\n",
              "      height: 32px;\n",
              "      padding: 0 0 0 0;\n",
              "      width: 32px;\n",
              "    }\n",
              "\n",
              "    .colab-df-convert:hover {\n",
              "      background-color: #E2EBFA;\n",
              "      box-shadow: 0px 1px 2px rgba(60, 64, 67, 0.3), 0px 1px 3px 1px rgba(60, 64, 67, 0.15);\n",
              "      fill: #174EA6;\n",
              "    }\n",
              "\n",
              "    [theme=dark] .colab-df-convert {\n",
              "      background-color: #3B4455;\n",
              "      fill: #D2E3FC;\n",
              "    }\n",
              "\n",
              "    [theme=dark] .colab-df-convert:hover {\n",
              "      background-color: #434B5C;\n",
              "      box-shadow: 0px 1px 3px 1px rgba(0, 0, 0, 0.15);\n",
              "      filter: drop-shadow(0px 1px 2px rgba(0, 0, 0, 0.3));\n",
              "      fill: #FFFFFF;\n",
              "    }\n",
              "  </style>\n",
              "\n",
              "      <script>\n",
              "        const buttonEl =\n",
              "          document.querySelector('#df-7def3a12-0352-424c-95e6-2e0476916658 button.colab-df-convert');\n",
              "        buttonEl.style.display =\n",
              "          google.colab.kernel.accessAllowed ? 'block' : 'none';\n",
              "\n",
              "        async function convertToInteractive(key) {\n",
              "          const element = document.querySelector('#df-7def3a12-0352-424c-95e6-2e0476916658');\n",
              "          const dataTable =\n",
              "            await google.colab.kernel.invokeFunction('convertToInteractive',\n",
              "                                                     [key], {});\n",
              "          if (!dataTable) return;\n",
              "\n",
              "          const docLinkHtml = 'Like what you see? Visit the ' +\n",
              "            '<a target=\"_blank\" href=https://colab.research.google.com/notebooks/data_table.ipynb>data table notebook</a>'\n",
              "            + ' to learn more about interactive tables.';\n",
              "          element.innerHTML = '';\n",
              "          dataTable['output_type'] = 'display_data';\n",
              "          await google.colab.output.renderOutput(dataTable, element);\n",
              "          const docLink = document.createElement('div');\n",
              "          docLink.innerHTML = docLinkHtml;\n",
              "          element.appendChild(docLink);\n",
              "        }\n",
              "      </script>\n",
              "    </div>\n",
              "  </div>\n",
              "  "
            ]
          },
          "metadata": {},
          "execution_count": 9
        }
      ]
    },
    {
      "cell_type": "code",
      "source": [
        "x1='Benefits'\n",
        "x2='Yoga Asan'"
      ],
      "metadata": {
        "id": "0SiwgibS-SLG"
      },
      "execution_count": 10,
      "outputs": []
    },
    {
      "cell_type": "code",
      "source": [
        "data = df[[x1,x2]]\n",
        "data = data.dropna()\n",
        "data=data.reset_index()\n",
        "# df.fillna(\"\",inplace=True)\n",
        "data"
      ],
      "metadata": {
        "colab": {
          "base_uri": "https://localhost:8080/",
          "height": 424
        },
        "id": "ZL2pkmo6-HXk",
        "outputId": "44f05e01-0708-490c-d932-8a01b99692ff"
      },
      "execution_count": 11,
      "outputs": [
        {
          "output_type": "execute_result",
          "data": {
            "text/plain": [
              "     index                                           Benefits  \\\n",
              "0        0  Corrects bad posture by straightening the spin...   \n",
              "1        1  Relieves gastritis indigestion acidity and fla...   \n",
              "2        2  Improves breathing capacity by expanding the c...   \n",
              "3        3  Enhances lung capacity , Tones the muscles of ...   \n",
              "4        4  Cools the brain and soothes the nerves, Reliev...   \n",
              "..     ...                                                ...   \n",
              "507    583  Strengthens core, arms, shoulders, elbows and ...   \n",
              "508    584  Strengthens core, arms, and shoulders. Improve...   \n",
              "509    585                     Strengthens the core and arms.   \n",
              "510    586  Stretches the entire front body and opens the ...   \n",
              "511    587                  Stretches the shoulders and spine   \n",
              "\n",
              "                                           Yoga Asan  \n",
              "0                       TADASANA or MOUNTAIN POSTURE  \n",
              "1      UTTHITA TRIKONASANA or EXTENDED TRIANGLE POSE  \n",
              "2                 VIRABHADRASANA 2 or WARRIOR POSE 2  \n",
              "3    UTTHITA PARSVAKONASANA or EXTENDED SIDE STRETCH  \n",
              "4           PARSVOTTANASANA or INTENSE TORSO STRETCH  \n",
              "..                                               ...  \n",
              "507                             Kukkutasana(Rooster)  \n",
              "508                    Karandavasana(Himalayan Duck)  \n",
              "509                                Lolasana(Pendant)  \n",
              "510      Dvi Pada Viparita Dandasana(Inverted Staff)  \n",
              "511                     Supta Konasana(Supine Angle)  \n",
              "\n",
              "[512 rows x 3 columns]"
            ],
            "text/html": [
              "\n",
              "  <div id=\"df-3b0f5d05-8387-41a6-a8d5-7cd2bb4e3bb9\">\n",
              "    <div class=\"colab-df-container\">\n",
              "      <div>\n",
              "<style scoped>\n",
              "    .dataframe tbody tr th:only-of-type {\n",
              "        vertical-align: middle;\n",
              "    }\n",
              "\n",
              "    .dataframe tbody tr th {\n",
              "        vertical-align: top;\n",
              "    }\n",
              "\n",
              "    .dataframe thead th {\n",
              "        text-align: right;\n",
              "    }\n",
              "</style>\n",
              "<table border=\"1\" class=\"dataframe\">\n",
              "  <thead>\n",
              "    <tr style=\"text-align: right;\">\n",
              "      <th></th>\n",
              "      <th>index</th>\n",
              "      <th>Benefits</th>\n",
              "      <th>Yoga Asan</th>\n",
              "    </tr>\n",
              "  </thead>\n",
              "  <tbody>\n",
              "    <tr>\n",
              "      <th>0</th>\n",
              "      <td>0</td>\n",
              "      <td>Corrects bad posture by straightening the spin...</td>\n",
              "      <td>TADASANA or MOUNTAIN POSTURE</td>\n",
              "    </tr>\n",
              "    <tr>\n",
              "      <th>1</th>\n",
              "      <td>1</td>\n",
              "      <td>Relieves gastritis indigestion acidity and fla...</td>\n",
              "      <td>UTTHITA TRIKONASANA or EXTENDED TRIANGLE POSE</td>\n",
              "    </tr>\n",
              "    <tr>\n",
              "      <th>2</th>\n",
              "      <td>2</td>\n",
              "      <td>Improves breathing capacity by expanding the c...</td>\n",
              "      <td>VIRABHADRASANA 2 or WARRIOR POSE 2</td>\n",
              "    </tr>\n",
              "    <tr>\n",
              "      <th>3</th>\n",
              "      <td>3</td>\n",
              "      <td>Enhances lung capacity , Tones the muscles of ...</td>\n",
              "      <td>UTTHITA PARSVAKONASANA or EXTENDED SIDE STRETCH</td>\n",
              "    </tr>\n",
              "    <tr>\n",
              "      <th>4</th>\n",
              "      <td>4</td>\n",
              "      <td>Cools the brain and soothes the nerves, Reliev...</td>\n",
              "      <td>PARSVOTTANASANA or INTENSE TORSO STRETCH</td>\n",
              "    </tr>\n",
              "    <tr>\n",
              "      <th>...</th>\n",
              "      <td>...</td>\n",
              "      <td>...</td>\n",
              "      <td>...</td>\n",
              "    </tr>\n",
              "    <tr>\n",
              "      <th>507</th>\n",
              "      <td>583</td>\n",
              "      <td>Strengthens core, arms, shoulders, elbows and ...</td>\n",
              "      <td>Kukkutasana(Rooster)</td>\n",
              "    </tr>\n",
              "    <tr>\n",
              "      <th>508</th>\n",
              "      <td>584</td>\n",
              "      <td>Strengthens core, arms, and shoulders. Improve...</td>\n",
              "      <td>Karandavasana(Himalayan Duck)</td>\n",
              "    </tr>\n",
              "    <tr>\n",
              "      <th>509</th>\n",
              "      <td>585</td>\n",
              "      <td>Strengthens the core and arms.</td>\n",
              "      <td>Lolasana(Pendant)</td>\n",
              "    </tr>\n",
              "    <tr>\n",
              "      <th>510</th>\n",
              "      <td>586</td>\n",
              "      <td>Stretches the entire front body and opens the ...</td>\n",
              "      <td>Dvi Pada Viparita Dandasana(Inverted Staff)</td>\n",
              "    </tr>\n",
              "    <tr>\n",
              "      <th>511</th>\n",
              "      <td>587</td>\n",
              "      <td>Stretches the shoulders and spine</td>\n",
              "      <td>Supta Konasana(Supine Angle)</td>\n",
              "    </tr>\n",
              "  </tbody>\n",
              "</table>\n",
              "<p>512 rows × 3 columns</p>\n",
              "</div>\n",
              "      <button class=\"colab-df-convert\" onclick=\"convertToInteractive('df-3b0f5d05-8387-41a6-a8d5-7cd2bb4e3bb9')\"\n",
              "              title=\"Convert this dataframe to an interactive table.\"\n",
              "              style=\"display:none;\">\n",
              "        \n",
              "  <svg xmlns=\"http://www.w3.org/2000/svg\" height=\"24px\"viewBox=\"0 0 24 24\"\n",
              "       width=\"24px\">\n",
              "    <path d=\"M0 0h24v24H0V0z\" fill=\"none\"/>\n",
              "    <path d=\"M18.56 5.44l.94 2.06.94-2.06 2.06-.94-2.06-.94-.94-2.06-.94 2.06-2.06.94zm-11 1L8.5 8.5l.94-2.06 2.06-.94-2.06-.94L8.5 2.5l-.94 2.06-2.06.94zm10 10l.94 2.06.94-2.06 2.06-.94-2.06-.94-.94-2.06-.94 2.06-2.06.94z\"/><path d=\"M17.41 7.96l-1.37-1.37c-.4-.4-.92-.59-1.43-.59-.52 0-1.04.2-1.43.59L10.3 9.45l-7.72 7.72c-.78.78-.78 2.05 0 2.83L4 21.41c.39.39.9.59 1.41.59.51 0 1.02-.2 1.41-.59l7.78-7.78 2.81-2.81c.8-.78.8-2.07 0-2.86zM5.41 20L4 18.59l7.72-7.72 1.47 1.35L5.41 20z\"/>\n",
              "  </svg>\n",
              "      </button>\n",
              "      \n",
              "  <style>\n",
              "    .colab-df-container {\n",
              "      display:flex;\n",
              "      flex-wrap:wrap;\n",
              "      gap: 12px;\n",
              "    }\n",
              "\n",
              "    .colab-df-convert {\n",
              "      background-color: #E8F0FE;\n",
              "      border: none;\n",
              "      border-radius: 50%;\n",
              "      cursor: pointer;\n",
              "      display: none;\n",
              "      fill: #1967D2;\n",
              "      height: 32px;\n",
              "      padding: 0 0 0 0;\n",
              "      width: 32px;\n",
              "    }\n",
              "\n",
              "    .colab-df-convert:hover {\n",
              "      background-color: #E2EBFA;\n",
              "      box-shadow: 0px 1px 2px rgba(60, 64, 67, 0.3), 0px 1px 3px 1px rgba(60, 64, 67, 0.15);\n",
              "      fill: #174EA6;\n",
              "    }\n",
              "\n",
              "    [theme=dark] .colab-df-convert {\n",
              "      background-color: #3B4455;\n",
              "      fill: #D2E3FC;\n",
              "    }\n",
              "\n",
              "    [theme=dark] .colab-df-convert:hover {\n",
              "      background-color: #434B5C;\n",
              "      box-shadow: 0px 1px 3px 1px rgba(0, 0, 0, 0.15);\n",
              "      filter: drop-shadow(0px 1px 2px rgba(0, 0, 0, 0.3));\n",
              "      fill: #FFFFFF;\n",
              "    }\n",
              "  </style>\n",
              "\n",
              "      <script>\n",
              "        const buttonEl =\n",
              "          document.querySelector('#df-3b0f5d05-8387-41a6-a8d5-7cd2bb4e3bb9 button.colab-df-convert');\n",
              "        buttonEl.style.display =\n",
              "          google.colab.kernel.accessAllowed ? 'block' : 'none';\n",
              "\n",
              "        async function convertToInteractive(key) {\n",
              "          const element = document.querySelector('#df-3b0f5d05-8387-41a6-a8d5-7cd2bb4e3bb9');\n",
              "          const dataTable =\n",
              "            await google.colab.kernel.invokeFunction('convertToInteractive',\n",
              "                                                     [key], {});\n",
              "          if (!dataTable) return;\n",
              "\n",
              "          const docLinkHtml = 'Like what you see? Visit the ' +\n",
              "            '<a target=\"_blank\" href=https://colab.research.google.com/notebooks/data_table.ipynb>data table notebook</a>'\n",
              "            + ' to learn more about interactive tables.';\n",
              "          element.innerHTML = '';\n",
              "          dataTable['output_type'] = 'display_data';\n",
              "          await google.colab.output.renderOutput(dataTable, element);\n",
              "          const docLink = document.createElement('div');\n",
              "          docLink.innerHTML = docLinkHtml;\n",
              "          element.appendChild(docLink);\n",
              "        }\n",
              "      </script>\n",
              "    </div>\n",
              "  </div>\n",
              "  "
            ]
          },
          "metadata": {},
          "execution_count": 11
        }
      ]
    },
    {
      "cell_type": "code",
      "source": [
        "data.shape    "
      ],
      "metadata": {
        "colab": {
          "base_uri": "https://localhost:8080/"
        },
        "id": "Kwba7Lit7DNS",
        "outputId": "12b56f3c-7dff-43bb-9bb1-4093c6e42b8f"
      },
      "execution_count": 12,
      "outputs": [
        {
          "output_type": "execute_result",
          "data": {
            "text/plain": [
              "(512, 3)"
            ]
          },
          "metadata": {},
          "execution_count": 12
        }
      ]
    },
    {
      "cell_type": "code",
      "source": [
        "data.dtypes"
      ],
      "metadata": {
        "colab": {
          "base_uri": "https://localhost:8080/"
        },
        "id": "NLl1XMla7K0F",
        "outputId": "107ecf55-fbdd-4f45-d108-c0608c84651c"
      },
      "execution_count": 13,
      "outputs": [
        {
          "output_type": "execute_result",
          "data": {
            "text/plain": [
              "index         int64\n",
              "Benefits     object\n",
              "Yoga Asan    object\n",
              "dtype: object"
            ]
          },
          "metadata": {},
          "execution_count": 13
        }
      ]
    },
    {
      "cell_type": "code",
      "source": [
        "  data[x2].value_counts()"
      ],
      "metadata": {
        "colab": {
          "base_uri": "https://localhost:8080/"
        },
        "id": "XnIj9s7q7K3M",
        "outputId": "2bdf901b-5dee-4f89-b609-34df67891171"
      },
      "execution_count": 14,
      "outputs": [
        {
          "output_type": "execute_result",
          "data": {
            "text/plain": [
              "Bharadvajasana                    3\n",
              "BHARADVAJASANA                    3\n",
              "Karnapidasana                     3\n",
              "Marichyasana                      3\n",
              "Padmasana                         3\n",
              "                                 ..\n",
              "Skandasana                        1\n",
              "Sahaja Navasana                   1\n",
              "Utkata Konasana                   1\n",
              "Supta Padangusthasana A Straps    1\n",
              "Supta Konasana(Supine Angle)      1\n",
              "Name: Yoga Asan, Length: 461, dtype: int64"
            ]
          },
          "metadata": {},
          "execution_count": 14
        }
      ]
    },
    {
      "cell_type": "code",
      "source": [
        "data.head()"
      ],
      "metadata": {
        "colab": {
          "base_uri": "https://localhost:8080/",
          "height": 206
        },
        "id": "YuoUi7Ey7K6L",
        "outputId": "70b61815-a6c1-4ca0-bdbd-2194affaf73b"
      },
      "execution_count": 15,
      "outputs": [
        {
          "output_type": "execute_result",
          "data": {
            "text/plain": [
              "   index                                           Benefits  \\\n",
              "0      0  Corrects bad posture by straightening the spin...   \n",
              "1      1  Relieves gastritis indigestion acidity and fla...   \n",
              "2      2  Improves breathing capacity by expanding the c...   \n",
              "3      3  Enhances lung capacity , Tones the muscles of ...   \n",
              "4      4  Cools the brain and soothes the nerves, Reliev...   \n",
              "\n",
              "                                         Yoga Asan  \n",
              "0                     TADASANA or MOUNTAIN POSTURE  \n",
              "1    UTTHITA TRIKONASANA or EXTENDED TRIANGLE POSE  \n",
              "2               VIRABHADRASANA 2 or WARRIOR POSE 2  \n",
              "3  UTTHITA PARSVAKONASANA or EXTENDED SIDE STRETCH  \n",
              "4         PARSVOTTANASANA or INTENSE TORSO STRETCH  "
            ],
            "text/html": [
              "\n",
              "  <div id=\"df-60991c2d-c1cb-4291-a9b1-d9ba3c88c320\">\n",
              "    <div class=\"colab-df-container\">\n",
              "      <div>\n",
              "<style scoped>\n",
              "    .dataframe tbody tr th:only-of-type {\n",
              "        vertical-align: middle;\n",
              "    }\n",
              "\n",
              "    .dataframe tbody tr th {\n",
              "        vertical-align: top;\n",
              "    }\n",
              "\n",
              "    .dataframe thead th {\n",
              "        text-align: right;\n",
              "    }\n",
              "</style>\n",
              "<table border=\"1\" class=\"dataframe\">\n",
              "  <thead>\n",
              "    <tr style=\"text-align: right;\">\n",
              "      <th></th>\n",
              "      <th>index</th>\n",
              "      <th>Benefits</th>\n",
              "      <th>Yoga Asan</th>\n",
              "    </tr>\n",
              "  </thead>\n",
              "  <tbody>\n",
              "    <tr>\n",
              "      <th>0</th>\n",
              "      <td>0</td>\n",
              "      <td>Corrects bad posture by straightening the spin...</td>\n",
              "      <td>TADASANA or MOUNTAIN POSTURE</td>\n",
              "    </tr>\n",
              "    <tr>\n",
              "      <th>1</th>\n",
              "      <td>1</td>\n",
              "      <td>Relieves gastritis indigestion acidity and fla...</td>\n",
              "      <td>UTTHITA TRIKONASANA or EXTENDED TRIANGLE POSE</td>\n",
              "    </tr>\n",
              "    <tr>\n",
              "      <th>2</th>\n",
              "      <td>2</td>\n",
              "      <td>Improves breathing capacity by expanding the c...</td>\n",
              "      <td>VIRABHADRASANA 2 or WARRIOR POSE 2</td>\n",
              "    </tr>\n",
              "    <tr>\n",
              "      <th>3</th>\n",
              "      <td>3</td>\n",
              "      <td>Enhances lung capacity , Tones the muscles of ...</td>\n",
              "      <td>UTTHITA PARSVAKONASANA or EXTENDED SIDE STRETCH</td>\n",
              "    </tr>\n",
              "    <tr>\n",
              "      <th>4</th>\n",
              "      <td>4</td>\n",
              "      <td>Cools the brain and soothes the nerves, Reliev...</td>\n",
              "      <td>PARSVOTTANASANA or INTENSE TORSO STRETCH</td>\n",
              "    </tr>\n",
              "  </tbody>\n",
              "</table>\n",
              "</div>\n",
              "      <button class=\"colab-df-convert\" onclick=\"convertToInteractive('df-60991c2d-c1cb-4291-a9b1-d9ba3c88c320')\"\n",
              "              title=\"Convert this dataframe to an interactive table.\"\n",
              "              style=\"display:none;\">\n",
              "        \n",
              "  <svg xmlns=\"http://www.w3.org/2000/svg\" height=\"24px\"viewBox=\"0 0 24 24\"\n",
              "       width=\"24px\">\n",
              "    <path d=\"M0 0h24v24H0V0z\" fill=\"none\"/>\n",
              "    <path d=\"M18.56 5.44l.94 2.06.94-2.06 2.06-.94-2.06-.94-.94-2.06-.94 2.06-2.06.94zm-11 1L8.5 8.5l.94-2.06 2.06-.94-2.06-.94L8.5 2.5l-.94 2.06-2.06.94zm10 10l.94 2.06.94-2.06 2.06-.94-2.06-.94-.94-2.06-.94 2.06-2.06.94z\"/><path d=\"M17.41 7.96l-1.37-1.37c-.4-.4-.92-.59-1.43-.59-.52 0-1.04.2-1.43.59L10.3 9.45l-7.72 7.72c-.78.78-.78 2.05 0 2.83L4 21.41c.39.39.9.59 1.41.59.51 0 1.02-.2 1.41-.59l7.78-7.78 2.81-2.81c.8-.78.8-2.07 0-2.86zM5.41 20L4 18.59l7.72-7.72 1.47 1.35L5.41 20z\"/>\n",
              "  </svg>\n",
              "      </button>\n",
              "      \n",
              "  <style>\n",
              "    .colab-df-container {\n",
              "      display:flex;\n",
              "      flex-wrap:wrap;\n",
              "      gap: 12px;\n",
              "    }\n",
              "\n",
              "    .colab-df-convert {\n",
              "      background-color: #E8F0FE;\n",
              "      border: none;\n",
              "      border-radius: 50%;\n",
              "      cursor: pointer;\n",
              "      display: none;\n",
              "      fill: #1967D2;\n",
              "      height: 32px;\n",
              "      padding: 0 0 0 0;\n",
              "      width: 32px;\n",
              "    }\n",
              "\n",
              "    .colab-df-convert:hover {\n",
              "      background-color: #E2EBFA;\n",
              "      box-shadow: 0px 1px 2px rgba(60, 64, 67, 0.3), 0px 1px 3px 1px rgba(60, 64, 67, 0.15);\n",
              "      fill: #174EA6;\n",
              "    }\n",
              "\n",
              "    [theme=dark] .colab-df-convert {\n",
              "      background-color: #3B4455;\n",
              "      fill: #D2E3FC;\n",
              "    }\n",
              "\n",
              "    [theme=dark] .colab-df-convert:hover {\n",
              "      background-color: #434B5C;\n",
              "      box-shadow: 0px 1px 3px 1px rgba(0, 0, 0, 0.15);\n",
              "      filter: drop-shadow(0px 1px 2px rgba(0, 0, 0, 0.3));\n",
              "      fill: #FFFFFF;\n",
              "    }\n",
              "  </style>\n",
              "\n",
              "      <script>\n",
              "        const buttonEl =\n",
              "          document.querySelector('#df-60991c2d-c1cb-4291-a9b1-d9ba3c88c320 button.colab-df-convert');\n",
              "        buttonEl.style.display =\n",
              "          google.colab.kernel.accessAllowed ? 'block' : 'none';\n",
              "\n",
              "        async function convertToInteractive(key) {\n",
              "          const element = document.querySelector('#df-60991c2d-c1cb-4291-a9b1-d9ba3c88c320');\n",
              "          const dataTable =\n",
              "            await google.colab.kernel.invokeFunction('convertToInteractive',\n",
              "                                                     [key], {});\n",
              "          if (!dataTable) return;\n",
              "\n",
              "          const docLinkHtml = 'Like what you see? Visit the ' +\n",
              "            '<a target=\"_blank\" href=https://colab.research.google.com/notebooks/data_table.ipynb>data table notebook</a>'\n",
              "            + ' to learn more about interactive tables.';\n",
              "          element.innerHTML = '';\n",
              "          dataTable['output_type'] = 'display_data';\n",
              "          await google.colab.output.renderOutput(dataTable, element);\n",
              "          const docLink = document.createElement('div');\n",
              "          docLink.innerHTML = docLinkHtml;\n",
              "          element.appendChild(docLink);\n",
              "        }\n",
              "      </script>\n",
              "    </div>\n",
              "  </div>\n",
              "  "
            ]
          },
          "metadata": {},
          "execution_count": 15
        }
      ]
    },
    {
      "cell_type": "code",
      "source": [
        "def example_complain(index):\n",
        "    example = data[data.index == index][[x1,x2]].values[0]\n",
        "    if len(example) > 0:\n",
        "        print(example[0])\n",
        "        print()\n",
        "        print('Category:', example[1])"
      ],
      "metadata": {
        "id": "z8ZzfyCu7K8-"
      },
      "execution_count": 16,
      "outputs": []
    },
    {
      "cell_type": "code",
      "source": [
        "example_complain(0)"
      ],
      "metadata": {
        "colab": {
          "base_uri": "https://localhost:8080/"
        },
        "id": "7GJ-fEqZ7K_P",
        "outputId": "0cb61ab1-0c16-4863-9e12-33b8fcf69d57"
      },
      "execution_count": 17,
      "outputs": [
        {
          "output_type": "stream",
          "name": "stdout",
          "text": [
            "Corrects bad posture by straightening the spine, Improves the alignment of your body, Counters the degenerative effects of ageing \n",
            "on the spine legs and feet, Tones the buttock muscles\n",
            "\n",
            "Category: TADASANA or MOUNTAIN POSTURE\n"
          ]
        }
      ]
    },
    {
      "cell_type": "code",
      "source": [
        "data = data.reset_index(drop=True)\n",
        "REPLACE_BY_SPACE_RE = re.compile('[/(){}\\[\\]\\|@,;]')\n",
        "BAD_SYMBOLS_RE = re.compile('[^a-z ]')\n",
        "STOPWORDS = set(stopwords.words('english'))\n",
        "\n",
        "def clean_text(text):\n",
        "    \"\"\"\n",
        "        text: a string\n",
        "        \n",
        "        return: modified initial string\n",
        "    \"\"\"\n",
        "    text = text.lower() # lowercase text\n",
        "    text = REPLACE_BY_SPACE_RE.sub(' ', text) # replace REPLACE_BY_SPACE_RE symbols by space in text. substitute the matched string in REPLACE_BY_SPACE_RE with space.\n",
        "    text = BAD_SYMBOLS_RE.sub('', text) # remove symbols which are in BAD_SYMBOLS_RE from text. substitute the matched string in BAD_SYMBOLS_RE with nothing. \n",
        "    text = text.replace('x', '')\n",
        "#    text = re.sub(r'\\W+', '', text)\n",
        "    text = ' '.join(word for word in text.split() if word not in STOPWORDS) # remove stopwors from text\n",
        "    return text\n",
        "data[x1] = data[x1].apply(clean_text)"
      ],
      "metadata": {
        "id": "7lmgNkWc7LBv"
      },
      "execution_count": 18,
      "outputs": []
    },
    {
      "cell_type": "code",
      "source": [
        "REPLACE_BY_SPACE_RE = re.compile('[/(){}\\[\\]\\|@,;]')\n",
        "BAD_SYMBOLS_RE = re.compile('[^a-z ]')\n",
        "STOPWORDS = set(stopwords.words('english'))\n",
        "\n",
        "def clean_text(text):\n",
        "    \"\"\"\n",
        "        text: a string\n",
        "        \n",
        "        return: modified initial string\n",
        "    \"\"\"\n",
        "    text = text.lower() # lowercase text\n",
        "    text = REPLACE_BY_SPACE_RE.sub(' ', text) # replace REPLACE_BY_SPACE_RE symbols by space in text. substitute the matched string in REPLACE_BY_SPACE_RE with space.\n",
        "    text = BAD_SYMBOLS_RE.sub('', text) # remove symbols which are in BAD_SYMBOLS_RE from text. substitute the matched string in BAD_SYMBOLS_RE with nothing. \n",
        "    text = text.replace('x', '')\n",
        "#    text = re.sub(r'\\W+', '', text)\n",
        "    text = ' '.join(word for word in text.split() if word not in STOPWORDS) # remove stopwors from text\n",
        "    return text\n",
        "data[x2] = data[x2].apply(clean_text)\n"
      ],
      "metadata": {
        "id": "6nViaQS1Vq61"
      },
      "execution_count": 19,
      "outputs": []
    },
    {
      "cell_type": "code",
      "source": [
        "for i in range(len(data[x2])):\n",
        "  if data[x2][i]==None:\n",
        "    continue\n",
        "  for j in range(len(data[x2])):\n",
        "    if i!=j and data[x2][j]!=None:\n",
        "      if data[x2][i]==data[x2][j]:\n",
        "        data[x1][i]=data[x1][i]+' '+data[x1][j]\n",
        "        data[x1][j]=None;\n",
        "        data[x2][j]=None;\n",
        "        "
      ],
      "metadata": {
        "colab": {
          "base_uri": "https://localhost:8080/"
        },
        "id": "gXbdZ_TIZGWf",
        "outputId": "150ac8c5-1137-4556-edf9-49f3384d4414"
      },
      "execution_count": 20,
      "outputs": [
        {
          "output_type": "stream",
          "name": "stderr",
          "text": [
            "/usr/local/lib/python3.7/dist-packages/ipykernel_launcher.py:7: SettingWithCopyWarning:\n",
            "\n",
            "\n",
            "A value is trying to be set on a copy of a slice from a DataFrame\n",
            "\n",
            "See the caveats in the documentation: https://pandas.pydata.org/pandas-docs/stable/user_guide/indexing.html#returning-a-view-versus-a-copy\n",
            "\n",
            "/usr/local/lib/python3.7/dist-packages/ipykernel_launcher.py:8: SettingWithCopyWarning:\n",
            "\n",
            "\n",
            "A value is trying to be set on a copy of a slice from a DataFrame\n",
            "\n",
            "See the caveats in the documentation: https://pandas.pydata.org/pandas-docs/stable/user_guide/indexing.html#returning-a-view-versus-a-copy\n",
            "\n",
            "/usr/local/lib/python3.7/dist-packages/ipykernel_launcher.py:9: SettingWithCopyWarning:\n",
            "\n",
            "\n",
            "A value is trying to be set on a copy of a slice from a DataFrame\n",
            "\n",
            "See the caveats in the documentation: https://pandas.pydata.org/pandas-docs/stable/user_guide/indexing.html#returning-a-view-versus-a-copy\n",
            "\n"
          ]
        }
      ]
    },
    {
      "cell_type": "code",
      "source": [
        "data=data.dropna()\n",
        "data = data.reset_index(drop=True)"
      ],
      "metadata": {
        "id": "IYirqTgigIWN"
      },
      "execution_count": 21,
      "outputs": []
    },
    {
      "cell_type": "code",
      "source": [
        "data"
      ],
      "metadata": {
        "colab": {
          "base_uri": "https://localhost:8080/",
          "height": 424
        },
        "id": "HcLEBuiUZGn1",
        "outputId": "4c93c82d-3e10-44f7-f49c-21b101869df6"
      },
      "execution_count": 22,
      "outputs": [
        {
          "output_type": "execute_result",
          "data": {
            "text/plain": [
              "     index                                           Benefits  \\\n",
              "0        0  corrects bad posture straightening spine impro...   \n",
              "1        1  relieves gastritis indigestion acidity flatule...   \n",
              "2        2  improves breathing capacity epanding chest hel...   \n",
              "3        3  enhances lung capacity tones muscles heart rel...   \n",
              "4        4  cools brain soothes nerves relieves arthritis ...   \n",
              "..     ...                                                ...   \n",
              "430    583  strengthens core arms shoulders elbows wrists ...   \n",
              "431    584  strengthens core arms shoulders improves fleib...   \n",
              "432    585                              strengthens core arms   \n",
              "433    586  stretches entire front body opens chest tones ...   \n",
              "434    587                          stretches shoulders spine   \n",
              "\n",
              "                                       Yoga Asan  \n",
              "0                      tadasana mountain posture  \n",
              "1      utthita trikonasana etended triangle pose  \n",
              "2                    virabhadrasana warrior pose  \n",
              "3    utthita parsvakonasana etended side stretch  \n",
              "4          parsvottanasana intense torso stretch  \n",
              "..                                           ...  \n",
              "430                          kukkutasana rooster  \n",
              "431                 karandavasana himalayan duck  \n",
              "432                             lolasana pendant  \n",
              "433   dvi pada viparita dandasana inverted staff  \n",
              "434                  supta konasana supine angle  \n",
              "\n",
              "[435 rows x 3 columns]"
            ],
            "text/html": [
              "\n",
              "  <div id=\"df-afde43e5-b449-401f-9fd9-efbea7988384\">\n",
              "    <div class=\"colab-df-container\">\n",
              "      <div>\n",
              "<style scoped>\n",
              "    .dataframe tbody tr th:only-of-type {\n",
              "        vertical-align: middle;\n",
              "    }\n",
              "\n",
              "    .dataframe tbody tr th {\n",
              "        vertical-align: top;\n",
              "    }\n",
              "\n",
              "    .dataframe thead th {\n",
              "        text-align: right;\n",
              "    }\n",
              "</style>\n",
              "<table border=\"1\" class=\"dataframe\">\n",
              "  <thead>\n",
              "    <tr style=\"text-align: right;\">\n",
              "      <th></th>\n",
              "      <th>index</th>\n",
              "      <th>Benefits</th>\n",
              "      <th>Yoga Asan</th>\n",
              "    </tr>\n",
              "  </thead>\n",
              "  <tbody>\n",
              "    <tr>\n",
              "      <th>0</th>\n",
              "      <td>0</td>\n",
              "      <td>corrects bad posture straightening spine impro...</td>\n",
              "      <td>tadasana mountain posture</td>\n",
              "    </tr>\n",
              "    <tr>\n",
              "      <th>1</th>\n",
              "      <td>1</td>\n",
              "      <td>relieves gastritis indigestion acidity flatule...</td>\n",
              "      <td>utthita trikonasana etended triangle pose</td>\n",
              "    </tr>\n",
              "    <tr>\n",
              "      <th>2</th>\n",
              "      <td>2</td>\n",
              "      <td>improves breathing capacity epanding chest hel...</td>\n",
              "      <td>virabhadrasana warrior pose</td>\n",
              "    </tr>\n",
              "    <tr>\n",
              "      <th>3</th>\n",
              "      <td>3</td>\n",
              "      <td>enhances lung capacity tones muscles heart rel...</td>\n",
              "      <td>utthita parsvakonasana etended side stretch</td>\n",
              "    </tr>\n",
              "    <tr>\n",
              "      <th>4</th>\n",
              "      <td>4</td>\n",
              "      <td>cools brain soothes nerves relieves arthritis ...</td>\n",
              "      <td>parsvottanasana intense torso stretch</td>\n",
              "    </tr>\n",
              "    <tr>\n",
              "      <th>...</th>\n",
              "      <td>...</td>\n",
              "      <td>...</td>\n",
              "      <td>...</td>\n",
              "    </tr>\n",
              "    <tr>\n",
              "      <th>430</th>\n",
              "      <td>583</td>\n",
              "      <td>strengthens core arms shoulders elbows wrists ...</td>\n",
              "      <td>kukkutasana rooster</td>\n",
              "    </tr>\n",
              "    <tr>\n",
              "      <th>431</th>\n",
              "      <td>584</td>\n",
              "      <td>strengthens core arms shoulders improves fleib...</td>\n",
              "      <td>karandavasana himalayan duck</td>\n",
              "    </tr>\n",
              "    <tr>\n",
              "      <th>432</th>\n",
              "      <td>585</td>\n",
              "      <td>strengthens core arms</td>\n",
              "      <td>lolasana pendant</td>\n",
              "    </tr>\n",
              "    <tr>\n",
              "      <th>433</th>\n",
              "      <td>586</td>\n",
              "      <td>stretches entire front body opens chest tones ...</td>\n",
              "      <td>dvi pada viparita dandasana inverted staff</td>\n",
              "    </tr>\n",
              "    <tr>\n",
              "      <th>434</th>\n",
              "      <td>587</td>\n",
              "      <td>stretches shoulders spine</td>\n",
              "      <td>supta konasana supine angle</td>\n",
              "    </tr>\n",
              "  </tbody>\n",
              "</table>\n",
              "<p>435 rows × 3 columns</p>\n",
              "</div>\n",
              "      <button class=\"colab-df-convert\" onclick=\"convertToInteractive('df-afde43e5-b449-401f-9fd9-efbea7988384')\"\n",
              "              title=\"Convert this dataframe to an interactive table.\"\n",
              "              style=\"display:none;\">\n",
              "        \n",
              "  <svg xmlns=\"http://www.w3.org/2000/svg\" height=\"24px\"viewBox=\"0 0 24 24\"\n",
              "       width=\"24px\">\n",
              "    <path d=\"M0 0h24v24H0V0z\" fill=\"none\"/>\n",
              "    <path d=\"M18.56 5.44l.94 2.06.94-2.06 2.06-.94-2.06-.94-.94-2.06-.94 2.06-2.06.94zm-11 1L8.5 8.5l.94-2.06 2.06-.94-2.06-.94L8.5 2.5l-.94 2.06-2.06.94zm10 10l.94 2.06.94-2.06 2.06-.94-2.06-.94-.94-2.06-.94 2.06-2.06.94z\"/><path d=\"M17.41 7.96l-1.37-1.37c-.4-.4-.92-.59-1.43-.59-.52 0-1.04.2-1.43.59L10.3 9.45l-7.72 7.72c-.78.78-.78 2.05 0 2.83L4 21.41c.39.39.9.59 1.41.59.51 0 1.02-.2 1.41-.59l7.78-7.78 2.81-2.81c.8-.78.8-2.07 0-2.86zM5.41 20L4 18.59l7.72-7.72 1.47 1.35L5.41 20z\"/>\n",
              "  </svg>\n",
              "      </button>\n",
              "      \n",
              "  <style>\n",
              "    .colab-df-container {\n",
              "      display:flex;\n",
              "      flex-wrap:wrap;\n",
              "      gap: 12px;\n",
              "    }\n",
              "\n",
              "    .colab-df-convert {\n",
              "      background-color: #E8F0FE;\n",
              "      border: none;\n",
              "      border-radius: 50%;\n",
              "      cursor: pointer;\n",
              "      display: none;\n",
              "      fill: #1967D2;\n",
              "      height: 32px;\n",
              "      padding: 0 0 0 0;\n",
              "      width: 32px;\n",
              "    }\n",
              "\n",
              "    .colab-df-convert:hover {\n",
              "      background-color: #E2EBFA;\n",
              "      box-shadow: 0px 1px 2px rgba(60, 64, 67, 0.3), 0px 1px 3px 1px rgba(60, 64, 67, 0.15);\n",
              "      fill: #174EA6;\n",
              "    }\n",
              "\n",
              "    [theme=dark] .colab-df-convert {\n",
              "      background-color: #3B4455;\n",
              "      fill: #D2E3FC;\n",
              "    }\n",
              "\n",
              "    [theme=dark] .colab-df-convert:hover {\n",
              "      background-color: #434B5C;\n",
              "      box-shadow: 0px 1px 3px 1px rgba(0, 0, 0, 0.15);\n",
              "      filter: drop-shadow(0px 1px 2px rgba(0, 0, 0, 0.3));\n",
              "      fill: #FFFFFF;\n",
              "    }\n",
              "  </style>\n",
              "\n",
              "      <script>\n",
              "        const buttonEl =\n",
              "          document.querySelector('#df-afde43e5-b449-401f-9fd9-efbea7988384 button.colab-df-convert');\n",
              "        buttonEl.style.display =\n",
              "          google.colab.kernel.accessAllowed ? 'block' : 'none';\n",
              "\n",
              "        async function convertToInteractive(key) {\n",
              "          const element = document.querySelector('#df-afde43e5-b449-401f-9fd9-efbea7988384');\n",
              "          const dataTable =\n",
              "            await google.colab.kernel.invokeFunction('convertToInteractive',\n",
              "                                                     [key], {});\n",
              "          if (!dataTable) return;\n",
              "\n",
              "          const docLinkHtml = 'Like what you see? Visit the ' +\n",
              "            '<a target=\"_blank\" href=https://colab.research.google.com/notebooks/data_table.ipynb>data table notebook</a>'\n",
              "            + ' to learn more about interactive tables.';\n",
              "          element.innerHTML = '';\n",
              "          dataTable['output_type'] = 'display_data';\n",
              "          await google.colab.output.renderOutput(dataTable, element);\n",
              "          const docLink = document.createElement('div');\n",
              "          docLink.innerHTML = docLinkHtml;\n",
              "          element.appendChild(docLink);\n",
              "        }\n",
              "      </script>\n",
              "    </div>\n",
              "  </div>\n",
              "  "
            ]
          },
          "metadata": {},
          "execution_count": 22
        }
      ]
    },
    {
      "cell_type": "code",
      "source": [
        ""
      ],
      "metadata": {
        "id": "oLtNOqWvWi2f"
      },
      "execution_count": 22,
      "outputs": []
    },
    {
      "cell_type": "code",
      "source": [
        "example_complain(1)"
      ],
      "metadata": {
        "colab": {
          "base_uri": "https://localhost:8080/"
        },
        "id": "LdrlVYu57LEa",
        "outputId": "e8703832-e47b-446f-9928-13253b3e968c"
      },
      "execution_count": 23,
      "outputs": [
        {
          "output_type": "stream",
          "name": "stdout",
          "text": [
            "relieves gastritis indigestion acidity flatulence improves fleibility spine alleviates backache corrects alignment shoulders helps treat neck sprains massages tones pelvic area strengthens ankles reduces discomfort menstruation etended triangle good lengthening spine strengthening thighs torso pose also stretches hips groin hamstrings calves shoulders chest spine\n",
            "\n",
            "Category: utthita trikonasana etended triangle pose\n"
          ]
        }
      ]
    },
    {
      "cell_type": "code",
      "source": [
        "data"
      ],
      "metadata": {
        "colab": {
          "base_uri": "https://localhost:8080/",
          "height": 424
        },
        "id": "9d09Nkr8KuRC",
        "outputId": "0611d632-ff5c-4004-ef7b-91f47dc2de6a"
      },
      "execution_count": 24,
      "outputs": [
        {
          "output_type": "execute_result",
          "data": {
            "text/plain": [
              "     index                                           Benefits  \\\n",
              "0        0  corrects bad posture straightening spine impro...   \n",
              "1        1  relieves gastritis indigestion acidity flatule...   \n",
              "2        2  improves breathing capacity epanding chest hel...   \n",
              "3        3  enhances lung capacity tones muscles heart rel...   \n",
              "4        4  cools brain soothes nerves relieves arthritis ...   \n",
              "..     ...                                                ...   \n",
              "430    583  strengthens core arms shoulders elbows wrists ...   \n",
              "431    584  strengthens core arms shoulders improves fleib...   \n",
              "432    585                              strengthens core arms   \n",
              "433    586  stretches entire front body opens chest tones ...   \n",
              "434    587                          stretches shoulders spine   \n",
              "\n",
              "                                       Yoga Asan  \n",
              "0                      tadasana mountain posture  \n",
              "1      utthita trikonasana etended triangle pose  \n",
              "2                    virabhadrasana warrior pose  \n",
              "3    utthita parsvakonasana etended side stretch  \n",
              "4          parsvottanasana intense torso stretch  \n",
              "..                                           ...  \n",
              "430                          kukkutasana rooster  \n",
              "431                 karandavasana himalayan duck  \n",
              "432                             lolasana pendant  \n",
              "433   dvi pada viparita dandasana inverted staff  \n",
              "434                  supta konasana supine angle  \n",
              "\n",
              "[435 rows x 3 columns]"
            ],
            "text/html": [
              "\n",
              "  <div id=\"df-c57f109c-c8a2-4d8a-b359-48b54952ee60\">\n",
              "    <div class=\"colab-df-container\">\n",
              "      <div>\n",
              "<style scoped>\n",
              "    .dataframe tbody tr th:only-of-type {\n",
              "        vertical-align: middle;\n",
              "    }\n",
              "\n",
              "    .dataframe tbody tr th {\n",
              "        vertical-align: top;\n",
              "    }\n",
              "\n",
              "    .dataframe thead th {\n",
              "        text-align: right;\n",
              "    }\n",
              "</style>\n",
              "<table border=\"1\" class=\"dataframe\">\n",
              "  <thead>\n",
              "    <tr style=\"text-align: right;\">\n",
              "      <th></th>\n",
              "      <th>index</th>\n",
              "      <th>Benefits</th>\n",
              "      <th>Yoga Asan</th>\n",
              "    </tr>\n",
              "  </thead>\n",
              "  <tbody>\n",
              "    <tr>\n",
              "      <th>0</th>\n",
              "      <td>0</td>\n",
              "      <td>corrects bad posture straightening spine impro...</td>\n",
              "      <td>tadasana mountain posture</td>\n",
              "    </tr>\n",
              "    <tr>\n",
              "      <th>1</th>\n",
              "      <td>1</td>\n",
              "      <td>relieves gastritis indigestion acidity flatule...</td>\n",
              "      <td>utthita trikonasana etended triangle pose</td>\n",
              "    </tr>\n",
              "    <tr>\n",
              "      <th>2</th>\n",
              "      <td>2</td>\n",
              "      <td>improves breathing capacity epanding chest hel...</td>\n",
              "      <td>virabhadrasana warrior pose</td>\n",
              "    </tr>\n",
              "    <tr>\n",
              "      <th>3</th>\n",
              "      <td>3</td>\n",
              "      <td>enhances lung capacity tones muscles heart rel...</td>\n",
              "      <td>utthita parsvakonasana etended side stretch</td>\n",
              "    </tr>\n",
              "    <tr>\n",
              "      <th>4</th>\n",
              "      <td>4</td>\n",
              "      <td>cools brain soothes nerves relieves arthritis ...</td>\n",
              "      <td>parsvottanasana intense torso stretch</td>\n",
              "    </tr>\n",
              "    <tr>\n",
              "      <th>...</th>\n",
              "      <td>...</td>\n",
              "      <td>...</td>\n",
              "      <td>...</td>\n",
              "    </tr>\n",
              "    <tr>\n",
              "      <th>430</th>\n",
              "      <td>583</td>\n",
              "      <td>strengthens core arms shoulders elbows wrists ...</td>\n",
              "      <td>kukkutasana rooster</td>\n",
              "    </tr>\n",
              "    <tr>\n",
              "      <th>431</th>\n",
              "      <td>584</td>\n",
              "      <td>strengthens core arms shoulders improves fleib...</td>\n",
              "      <td>karandavasana himalayan duck</td>\n",
              "    </tr>\n",
              "    <tr>\n",
              "      <th>432</th>\n",
              "      <td>585</td>\n",
              "      <td>strengthens core arms</td>\n",
              "      <td>lolasana pendant</td>\n",
              "    </tr>\n",
              "    <tr>\n",
              "      <th>433</th>\n",
              "      <td>586</td>\n",
              "      <td>stretches entire front body opens chest tones ...</td>\n",
              "      <td>dvi pada viparita dandasana inverted staff</td>\n",
              "    </tr>\n",
              "    <tr>\n",
              "      <th>434</th>\n",
              "      <td>587</td>\n",
              "      <td>stretches shoulders spine</td>\n",
              "      <td>supta konasana supine angle</td>\n",
              "    </tr>\n",
              "  </tbody>\n",
              "</table>\n",
              "<p>435 rows × 3 columns</p>\n",
              "</div>\n",
              "      <button class=\"colab-df-convert\" onclick=\"convertToInteractive('df-c57f109c-c8a2-4d8a-b359-48b54952ee60')\"\n",
              "              title=\"Convert this dataframe to an interactive table.\"\n",
              "              style=\"display:none;\">\n",
              "        \n",
              "  <svg xmlns=\"http://www.w3.org/2000/svg\" height=\"24px\"viewBox=\"0 0 24 24\"\n",
              "       width=\"24px\">\n",
              "    <path d=\"M0 0h24v24H0V0z\" fill=\"none\"/>\n",
              "    <path d=\"M18.56 5.44l.94 2.06.94-2.06 2.06-.94-2.06-.94-.94-2.06-.94 2.06-2.06.94zm-11 1L8.5 8.5l.94-2.06 2.06-.94-2.06-.94L8.5 2.5l-.94 2.06-2.06.94zm10 10l.94 2.06.94-2.06 2.06-.94-2.06-.94-.94-2.06-.94 2.06-2.06.94z\"/><path d=\"M17.41 7.96l-1.37-1.37c-.4-.4-.92-.59-1.43-.59-.52 0-1.04.2-1.43.59L10.3 9.45l-7.72 7.72c-.78.78-.78 2.05 0 2.83L4 21.41c.39.39.9.59 1.41.59.51 0 1.02-.2 1.41-.59l7.78-7.78 2.81-2.81c.8-.78.8-2.07 0-2.86zM5.41 20L4 18.59l7.72-7.72 1.47 1.35L5.41 20z\"/>\n",
              "  </svg>\n",
              "      </button>\n",
              "      \n",
              "  <style>\n",
              "    .colab-df-container {\n",
              "      display:flex;\n",
              "      flex-wrap:wrap;\n",
              "      gap: 12px;\n",
              "    }\n",
              "\n",
              "    .colab-df-convert {\n",
              "      background-color: #E8F0FE;\n",
              "      border: none;\n",
              "      border-radius: 50%;\n",
              "      cursor: pointer;\n",
              "      display: none;\n",
              "      fill: #1967D2;\n",
              "      height: 32px;\n",
              "      padding: 0 0 0 0;\n",
              "      width: 32px;\n",
              "    }\n",
              "\n",
              "    .colab-df-convert:hover {\n",
              "      background-color: #E2EBFA;\n",
              "      box-shadow: 0px 1px 2px rgba(60, 64, 67, 0.3), 0px 1px 3px 1px rgba(60, 64, 67, 0.15);\n",
              "      fill: #174EA6;\n",
              "    }\n",
              "\n",
              "    [theme=dark] .colab-df-convert {\n",
              "      background-color: #3B4455;\n",
              "      fill: #D2E3FC;\n",
              "    }\n",
              "\n",
              "    [theme=dark] .colab-df-convert:hover {\n",
              "      background-color: #434B5C;\n",
              "      box-shadow: 0px 1px 3px 1px rgba(0, 0, 0, 0.15);\n",
              "      filter: drop-shadow(0px 1px 2px rgba(0, 0, 0, 0.3));\n",
              "      fill: #FFFFFF;\n",
              "    }\n",
              "  </style>\n",
              "\n",
              "      <script>\n",
              "        const buttonEl =\n",
              "          document.querySelector('#df-c57f109c-c8a2-4d8a-b359-48b54952ee60 button.colab-df-convert');\n",
              "        buttonEl.style.display =\n",
              "          google.colab.kernel.accessAllowed ? 'block' : 'none';\n",
              "\n",
              "        async function convertToInteractive(key) {\n",
              "          const element = document.querySelector('#df-c57f109c-c8a2-4d8a-b359-48b54952ee60');\n",
              "          const dataTable =\n",
              "            await google.colab.kernel.invokeFunction('convertToInteractive',\n",
              "                                                     [key], {});\n",
              "          if (!dataTable) return;\n",
              "\n",
              "          const docLinkHtml = 'Like what you see? Visit the ' +\n",
              "            '<a target=\"_blank\" href=https://colab.research.google.com/notebooks/data_table.ipynb>data table notebook</a>'\n",
              "            + ' to learn more about interactive tables.';\n",
              "          element.innerHTML = '';\n",
              "          dataTable['output_type'] = 'display_data';\n",
              "          await google.colab.output.renderOutput(dataTable, element);\n",
              "          const docLink = document.createElement('div');\n",
              "          docLink.innerHTML = docLinkHtml;\n",
              "          element.appendChild(docLink);\n",
              "        }\n",
              "      </script>\n",
              "    </div>\n",
              "  </div>\n",
              "  "
            ]
          },
          "metadata": {},
          "execution_count": 24
        }
      ]
    },
    {
      "cell_type": "code",
      "source": [
        "# The maximum number of words to be used. (most frequent)\n",
        "MAX_NB_WORDS = 20000\n",
        "# Max number of words in each complaint.\n",
        "MAX_SEQUENCE_LENGTH = 500\n",
        "# This is fixed.\n",
        "EMBEDDING_DIM = 100\n",
        "\n",
        "tokenizer = Tokenizer(num_words=MAX_NB_WORDS, filters='!\"#$%&()*+,-./:;<=>?@[\\]^`{|}~', lower=True)\n",
        "tokenizer.fit_on_texts(data[x1].values)\n",
        "word_index = tokenizer.word_index\n",
        "print('Found %s unique tokens.' % len(word_index))\n"
      ],
      "metadata": {
        "colab": {
          "base_uri": "https://localhost:8080/"
        },
        "id": "uT_5VHQU7LG_",
        "outputId": "8f242f6d-35e9-4773-cf72-c8458caf3095"
      },
      "execution_count": 25,
      "outputs": [
        {
          "output_type": "stream",
          "name": "stdout",
          "text": [
            "Found 2811 unique tokens.\n"
          ]
        }
      ]
    },
    {
      "cell_type": "code",
      "source": [
        "X = tokenizer.texts_to_sequences(data[x1].values)\n",
        "X = pad_sequences(X, maxlen=MAX_SEQUENCE_LENGTH)\n",
        "print('Shape of data tensor:', X.shape)"
      ],
      "metadata": {
        "colab": {
          "base_uri": "https://localhost:8080/"
        },
        "id": "5tlYXbRo7LJm",
        "outputId": "2a76a11f-a0b9-406c-9a5c-74bde09a267a"
      },
      "execution_count": 26,
      "outputs": [
        {
          "output_type": "stream",
          "name": "stdout",
          "text": [
            "Shape of data tensor: (435, 500)\n"
          ]
        }
      ]
    },
    {
      "cell_type": "code",
      "source": [
        "Y = pd.get_dummies(data[x2]).values\n",
        "print('Shape of label tensor:', Y.shape)"
      ],
      "metadata": {
        "colab": {
          "base_uri": "https://localhost:8080/"
        },
        "id": "rl4tmSco7LMa",
        "outputId": "2d1e0bd4-f130-43d4-83fc-3e0aa771a86c"
      },
      "execution_count": 27,
      "outputs": [
        {
          "output_type": "stream",
          "name": "stdout",
          "text": [
            "Shape of label tensor: (435, 435)\n"
          ]
        }
      ]
    },
    {
      "cell_type": "code",
      "source": [
        "X_train, X_test, Y_train, Y_test = train_test_split(X,Y, test_size = 0.1, random_state = 42)\n",
        "print(X_train.shape,Y_train.shape)\n",
        "print(X_test.shape,Y_test.shape)"
      ],
      "metadata": {
        "colab": {
          "base_uri": "https://localhost:8080/"
        },
        "id": "MAhagLTr7LPU",
        "outputId": "36ae3747-f5cd-4536-a685-bdd2cb9e2629"
      },
      "execution_count": 28,
      "outputs": [
        {
          "output_type": "stream",
          "name": "stdout",
          "text": [
            "(391, 500) (391, 435)\n",
            "(44, 500) (44, 435)\n"
          ]
        }
      ]
    },
    {
      "cell_type": "code",
      "source": [
        ""
      ],
      "metadata": {
        "id": "rICHXyefYMRO"
      },
      "execution_count": 28,
      "outputs": []
    },
    {
      "cell_type": "code",
      "source": [
        "model = Sequential()\n",
        "model.add(Embedding(MAX_NB_WORDS, EMBEDDING_DIM, input_length=X.shape[1]))\n",
        "model.add(SpatialDropout1D(0.2))\n",
        "# model.add(Dense(337, activation='relu'))\n",
        "\n",
        "model.add(LSTM(100))\n",
        "model.add(Dense(435, activation='softmax'))\n",
        "model.compile(loss='categorical_crossentropy', optimizer='adam', metrics=['accuracy'])\n",
        "print(model.summary())"
      ],
      "metadata": {
        "colab": {
          "base_uri": "https://localhost:8080/"
        },
        "id": "RhTmmnIx7LSA",
        "outputId": "c0ae2058-dc75-4db6-896e-3bff48e0fd76"
      },
      "execution_count": 31,
      "outputs": [
        {
          "output_type": "stream",
          "name": "stdout",
          "text": [
            "Model: \"sequential_1\"\n",
            "_________________________________________________________________\n",
            " Layer (type)                Output Shape              Param #   \n",
            "=================================================================\n",
            " embedding_1 (Embedding)     (None, 500, 100)          2000000   \n",
            "                                                                 \n",
            " spatial_dropout1d_1 (Spatia  (None, 500, 100)         0         \n",
            " lDropout1D)                                                     \n",
            "                                                                 \n",
            " lstm_1 (LSTM)               (None, 100)               80400     \n",
            "                                                                 \n",
            " dense_1 (Dense)             (None, 435)               43935     \n",
            "                                                                 \n",
            "=================================================================\n",
            "Total params: 2,124,335\n",
            "Trainable params: 2,124,335\n",
            "Non-trainable params: 0\n",
            "_________________________________________________________________\n",
            "None\n"
          ]
        }
      ]
    },
    {
      "cell_type": "code",
      "source": [
        "epochs = 100\n",
        "batch_size = 16\n",
        "\n",
        "history = model.fit(X_train, Y_train, epochs=epochs, batch_size=batch_size,validation_split=0.1,callbacks=[EarlyStopping(monitor='val_loss', patience=100)])"
      ],
      "metadata": {
        "colab": {
          "base_uri": "https://localhost:8080/"
        },
        "id": "drjW9XcX7LU1",
        "outputId": "275623a0-845c-47dc-b23a-f1b7832bb87c"
      },
      "execution_count": 35,
      "outputs": [
        {
          "output_type": "stream",
          "name": "stdout",
          "text": [
            "Epoch 1/100\n",
            "22/22 [==============================] - 8s 386ms/step - loss: 4.1018 - accuracy: 0.1681 - val_loss: 10.2767 - val_accuracy: 0.0000e+00\n",
            "Epoch 2/100\n",
            "22/22 [==============================] - 8s 384ms/step - loss: 3.9607 - accuracy: 0.2051 - val_loss: 10.2951 - val_accuracy: 0.0000e+00\n",
            "Epoch 3/100\n",
            "22/22 [==============================] - 8s 384ms/step - loss: 3.7977 - accuracy: 0.3333 - val_loss: 10.3184 - val_accuracy: 0.0000e+00\n",
            "Epoch 4/100\n",
            "22/22 [==============================] - 8s 375ms/step - loss: 3.6451 - accuracy: 0.4103 - val_loss: 10.7960 - val_accuracy: 0.0000e+00\n",
            "Epoch 5/100\n",
            "22/22 [==============================] - 9s 397ms/step - loss: 3.4932 - accuracy: 0.4672 - val_loss: 10.8324 - val_accuracy: 0.0000e+00\n",
            "Epoch 6/100\n",
            "22/22 [==============================] - 9s 390ms/step - loss: 3.3217 - accuracy: 0.5926 - val_loss: 10.7130 - val_accuracy: 0.0000e+00\n",
            "Epoch 7/100\n",
            "22/22 [==============================] - 8s 375ms/step - loss: 3.1820 - accuracy: 0.6239 - val_loss: 11.0614 - val_accuracy: 0.0000e+00\n",
            "Epoch 8/100\n",
            "22/22 [==============================] - 8s 377ms/step - loss: 3.0366 - accuracy: 0.6809 - val_loss: 10.9061 - val_accuracy: 0.0000e+00\n",
            "Epoch 9/100\n",
            "22/22 [==============================] - 8s 379ms/step - loss: 2.8949 - accuracy: 0.7379 - val_loss: 11.0324 - val_accuracy: 0.0000e+00\n",
            "Epoch 10/100\n",
            "22/22 [==============================] - 8s 376ms/step - loss: 2.7550 - accuracy: 0.7436 - val_loss: 11.1417 - val_accuracy: 0.0000e+00\n",
            "Epoch 11/100\n",
            "22/22 [==============================] - 8s 375ms/step - loss: 2.6034 - accuracy: 0.7664 - val_loss: 11.4595 - val_accuracy: 0.0000e+00\n",
            "Epoch 12/100\n",
            "22/22 [==============================] - 8s 378ms/step - loss: 2.4884 - accuracy: 0.8063 - val_loss: 11.4955 - val_accuracy: 0.0000e+00\n",
            "Epoch 13/100\n",
            "22/22 [==============================] - 8s 374ms/step - loss: 2.3821 - accuracy: 0.8291 - val_loss: 11.3271 - val_accuracy: 0.0000e+00\n",
            "Epoch 14/100\n",
            "22/22 [==============================] - 8s 377ms/step - loss: 2.2230 - accuracy: 0.8718 - val_loss: 11.5079 - val_accuracy: 0.0000e+00\n",
            "Epoch 15/100\n",
            "22/22 [==============================] - 10s 463ms/step - loss: 2.1124 - accuracy: 0.8632 - val_loss: 11.5909 - val_accuracy: 0.0000e+00\n",
            "Epoch 16/100\n",
            "22/22 [==============================] - 8s 378ms/step - loss: 1.9837 - accuracy: 0.8661 - val_loss: 11.6150 - val_accuracy: 0.0000e+00\n",
            "Epoch 17/100\n",
            "22/22 [==============================] - 8s 379ms/step - loss: 1.8928 - accuracy: 0.8803 - val_loss: 11.6498 - val_accuracy: 0.0000e+00\n",
            "Epoch 18/100\n",
            "22/22 [==============================] - 8s 381ms/step - loss: 1.7872 - accuracy: 0.8917 - val_loss: 11.7743 - val_accuracy: 0.0000e+00\n",
            "Epoch 19/100\n",
            "22/22 [==============================] - 8s 380ms/step - loss: 1.6591 - accuracy: 0.9060 - val_loss: 11.8898 - val_accuracy: 0.0000e+00\n",
            "Epoch 20/100\n",
            "22/22 [==============================] - 8s 376ms/step - loss: 1.5473 - accuracy: 0.8889 - val_loss: 11.8395 - val_accuracy: 0.0000e+00\n",
            "Epoch 21/100\n",
            "22/22 [==============================] - 8s 375ms/step - loss: 1.4456 - accuracy: 0.9003 - val_loss: 12.0155 - val_accuracy: 0.0000e+00\n",
            "Epoch 22/100\n",
            "22/22 [==============================] - 8s 378ms/step - loss: 1.3658 - accuracy: 0.8974 - val_loss: 12.1197 - val_accuracy: 0.0000e+00\n",
            "Epoch 23/100\n",
            "22/22 [==============================] - 8s 380ms/step - loss: 1.2872 - accuracy: 0.9088 - val_loss: 11.9263 - val_accuracy: 0.0000e+00\n",
            "Epoch 24/100\n",
            "22/22 [==============================] - 8s 379ms/step - loss: 1.2265 - accuracy: 0.8917 - val_loss: 12.0485 - val_accuracy: 0.0000e+00\n",
            "Epoch 25/100\n",
            "22/22 [==============================] - 8s 377ms/step - loss: 1.1375 - accuracy: 0.9031 - val_loss: 12.2576 - val_accuracy: 0.0000e+00\n",
            "Epoch 26/100\n",
            "22/22 [==============================] - 8s 374ms/step - loss: 1.0677 - accuracy: 0.9060 - val_loss: 12.2494 - val_accuracy: 0.0000e+00\n",
            "Epoch 27/100\n",
            "22/22 [==============================] - 8s 381ms/step - loss: 1.0090 - accuracy: 0.9145 - val_loss: 12.1869 - val_accuracy: 0.0000e+00\n",
            "Epoch 28/100\n",
            "22/22 [==============================] - 8s 381ms/step - loss: 0.9519 - accuracy: 0.9174 - val_loss: 12.3021 - val_accuracy: 0.0000e+00\n",
            "Epoch 29/100\n",
            "22/22 [==============================] - 8s 383ms/step - loss: 0.8817 - accuracy: 0.9117 - val_loss: 12.2492 - val_accuracy: 0.0000e+00\n",
            "Epoch 30/100\n",
            "22/22 [==============================] - 8s 382ms/step - loss: 0.8250 - accuracy: 0.9174 - val_loss: 12.3337 - val_accuracy: 0.0000e+00\n",
            "Epoch 31/100\n",
            "22/22 [==============================] - 8s 380ms/step - loss: 0.7774 - accuracy: 0.9117 - val_loss: 12.4304 - val_accuracy: 0.0000e+00\n",
            "Epoch 32/100\n",
            "22/22 [==============================] - 10s 465ms/step - loss: 0.7385 - accuracy: 0.9231 - val_loss: 12.5423 - val_accuracy: 0.0000e+00\n",
            "Epoch 33/100\n",
            "22/22 [==============================] - 8s 378ms/step - loss: 0.7092 - accuracy: 0.9117 - val_loss: 12.3599 - val_accuracy: 0.0000e+00\n",
            "Epoch 34/100\n",
            "22/22 [==============================] - 8s 382ms/step - loss: 0.7011 - accuracy: 0.9060 - val_loss: 12.5347 - val_accuracy: 0.0000e+00\n",
            "Epoch 35/100\n",
            "22/22 [==============================] - 8s 383ms/step - loss: 0.6545 - accuracy: 0.9174 - val_loss: 12.4115 - val_accuracy: 0.0000e+00\n",
            "Epoch 36/100\n",
            "22/22 [==============================] - 8s 376ms/step - loss: 0.6013 - accuracy: 0.9031 - val_loss: 12.6422 - val_accuracy: 0.0000e+00\n",
            "Epoch 37/100\n",
            "22/22 [==============================] - 8s 380ms/step - loss: 0.5677 - accuracy: 0.9145 - val_loss: 12.7264 - val_accuracy: 0.0000e+00\n",
            "Epoch 38/100\n",
            "22/22 [==============================] - 8s 381ms/step - loss: 0.5390 - accuracy: 0.9202 - val_loss: 12.5954 - val_accuracy: 0.0000e+00\n",
            "Epoch 39/100\n",
            "22/22 [==============================] - 8s 375ms/step - loss: 0.5257 - accuracy: 0.9117 - val_loss: 12.7079 - val_accuracy: 0.0000e+00\n",
            "Epoch 40/100\n",
            "22/22 [==============================] - 8s 378ms/step - loss: 0.4979 - accuracy: 0.9088 - val_loss: 12.6535 - val_accuracy: 0.0000e+00\n",
            "Epoch 41/100\n",
            "22/22 [==============================] - 9s 389ms/step - loss: 0.4645 - accuracy: 0.9202 - val_loss: 12.7146 - val_accuracy: 0.0000e+00\n",
            "Epoch 42/100\n",
            "22/22 [==============================] - 8s 385ms/step - loss: 0.4490 - accuracy: 0.9145 - val_loss: 12.8289 - val_accuracy: 0.0000e+00\n",
            "Epoch 43/100\n",
            "22/22 [==============================] - 9s 386ms/step - loss: 0.4249 - accuracy: 0.9174 - val_loss: 12.7860 - val_accuracy: 0.0000e+00\n",
            "Epoch 44/100\n",
            "22/22 [==============================] - 8s 380ms/step - loss: 0.4075 - accuracy: 0.9202 - val_loss: 12.8361 - val_accuracy: 0.0000e+00\n",
            "Epoch 45/100\n",
            "22/22 [==============================] - 9s 388ms/step - loss: 0.3952 - accuracy: 0.9231 - val_loss: 12.9026 - val_accuracy: 0.0000e+00\n",
            "Epoch 46/100\n",
            "22/22 [==============================] - 8s 381ms/step - loss: 0.3829 - accuracy: 0.9174 - val_loss: 12.8533 - val_accuracy: 0.0000e+00\n",
            "Epoch 47/100\n",
            "22/22 [==============================] - 8s 383ms/step - loss: 0.3665 - accuracy: 0.9202 - val_loss: 12.9123 - val_accuracy: 0.0000e+00\n",
            "Epoch 48/100\n",
            "22/22 [==============================] - 8s 386ms/step - loss: 0.3553 - accuracy: 0.9088 - val_loss: 12.9341 - val_accuracy: 0.0000e+00\n",
            "Epoch 49/100\n",
            "22/22 [==============================] - 10s 464ms/step - loss: 0.3445 - accuracy: 0.9145 - val_loss: 12.9989 - val_accuracy: 0.0000e+00\n",
            "Epoch 50/100\n",
            "22/22 [==============================] - 9s 387ms/step - loss: 0.3312 - accuracy: 0.9259 - val_loss: 12.9252 - val_accuracy: 0.0000e+00\n",
            "Epoch 51/100\n",
            "22/22 [==============================] - 9s 386ms/step - loss: 0.3197 - accuracy: 0.9060 - val_loss: 13.0373 - val_accuracy: 0.0000e+00\n",
            "Epoch 52/100\n",
            "22/22 [==============================] - 9s 388ms/step - loss: 0.3094 - accuracy: 0.9288 - val_loss: 13.0311 - val_accuracy: 0.0000e+00\n",
            "Epoch 53/100\n",
            "22/22 [==============================] - 8s 382ms/step - loss: 0.3112 - accuracy: 0.9088 - val_loss: 13.0348 - val_accuracy: 0.0000e+00\n",
            "Epoch 54/100\n",
            "22/22 [==============================] - 8s 377ms/step - loss: 0.2957 - accuracy: 0.9202 - val_loss: 13.0892 - val_accuracy: 0.0000e+00\n",
            "Epoch 55/100\n",
            "22/22 [==============================] - 8s 380ms/step - loss: 0.2889 - accuracy: 0.9202 - val_loss: 13.1169 - val_accuracy: 0.0000e+00\n",
            "Epoch 56/100\n",
            "22/22 [==============================] - 8s 384ms/step - loss: 0.2840 - accuracy: 0.9174 - val_loss: 13.1897 - val_accuracy: 0.0000e+00\n",
            "Epoch 57/100\n",
            "22/22 [==============================] - 9s 396ms/step - loss: 0.2784 - accuracy: 0.9031 - val_loss: 13.0479 - val_accuracy: 0.0000e+00\n",
            "Epoch 58/100\n",
            "22/22 [==============================] - 9s 403ms/step - loss: 0.2713 - accuracy: 0.9145 - val_loss: 13.1562 - val_accuracy: 0.0000e+00\n",
            "Epoch 59/100\n",
            "22/22 [==============================] - 8s 380ms/step - loss: 0.2641 - accuracy: 0.9117 - val_loss: 13.2290 - val_accuracy: 0.0000e+00\n",
            "Epoch 60/100\n",
            "22/22 [==============================] - 8s 379ms/step - loss: 0.2581 - accuracy: 0.9117 - val_loss: 13.1907 - val_accuracy: 0.0000e+00\n",
            "Epoch 61/100\n",
            "22/22 [==============================] - 8s 379ms/step - loss: 0.2495 - accuracy: 0.9145 - val_loss: 13.1674 - val_accuracy: 0.0000e+00\n",
            "Epoch 62/100\n",
            "22/22 [==============================] - 8s 382ms/step - loss: 0.2460 - accuracy: 0.9117 - val_loss: 13.1712 - val_accuracy: 0.0000e+00\n",
            "Epoch 63/100\n",
            "22/22 [==============================] - 8s 380ms/step - loss: 0.2459 - accuracy: 0.9060 - val_loss: 13.2848 - val_accuracy: 0.0000e+00\n",
            "Epoch 64/100\n",
            "22/22 [==============================] - 8s 383ms/step - loss: 0.2412 - accuracy: 0.9231 - val_loss: 13.1739 - val_accuracy: 0.0000e+00\n",
            "Epoch 65/100\n",
            "22/22 [==============================] - 8s 383ms/step - loss: 0.2333 - accuracy: 0.9202 - val_loss: 13.3744 - val_accuracy: 0.0000e+00\n",
            "Epoch 66/100\n",
            "22/22 [==============================] - 10s 465ms/step - loss: 0.2304 - accuracy: 0.9174 - val_loss: 13.3450 - val_accuracy: 0.0000e+00\n",
            "Epoch 67/100\n",
            "22/22 [==============================] - 9s 391ms/step - loss: 0.2253 - accuracy: 0.9231 - val_loss: 13.1832 - val_accuracy: 0.0000e+00\n",
            "Epoch 68/100\n",
            "22/22 [==============================] - 8s 384ms/step - loss: 0.2207 - accuracy: 0.9231 - val_loss: 13.2274 - val_accuracy: 0.0000e+00\n",
            "Epoch 69/100\n",
            "22/22 [==============================] - 9s 387ms/step - loss: 0.2164 - accuracy: 0.9145 - val_loss: 13.3725 - val_accuracy: 0.0000e+00\n",
            "Epoch 70/100\n",
            "22/22 [==============================] - 8s 378ms/step - loss: 0.2170 - accuracy: 0.9117 - val_loss: 13.3303 - val_accuracy: 0.0000e+00\n",
            "Epoch 71/100\n",
            "22/22 [==============================] - 8s 384ms/step - loss: 0.2080 - accuracy: 0.9174 - val_loss: 13.3453 - val_accuracy: 0.0000e+00\n",
            "Epoch 72/100\n",
            "22/22 [==============================] - 8s 385ms/step - loss: 0.2065 - accuracy: 0.9202 - val_loss: 13.3754 - val_accuracy: 0.0000e+00\n",
            "Epoch 73/100\n",
            "22/22 [==============================] - 9s 401ms/step - loss: 0.2031 - accuracy: 0.9259 - val_loss: 13.3192 - val_accuracy: 0.0000e+00\n",
            "Epoch 74/100\n",
            "22/22 [==============================] - 9s 395ms/step - loss: 0.2024 - accuracy: 0.9231 - val_loss: 13.3363 - val_accuracy: 0.0000e+00\n",
            "Epoch 75/100\n",
            "22/22 [==============================] - 9s 387ms/step - loss: 0.1996 - accuracy: 0.9259 - val_loss: 13.3981 - val_accuracy: 0.0000e+00\n",
            "Epoch 76/100\n",
            "22/22 [==============================] - 8s 385ms/step - loss: 0.1962 - accuracy: 0.9117 - val_loss: 13.4410 - val_accuracy: 0.0000e+00\n",
            "Epoch 77/100\n",
            "22/22 [==============================] - 8s 386ms/step - loss: 0.1932 - accuracy: 0.9088 - val_loss: 13.5061 - val_accuracy: 0.0000e+00\n",
            "Epoch 78/100\n",
            "22/22 [==============================] - 8s 383ms/step - loss: 0.1931 - accuracy: 0.9231 - val_loss: 13.3869 - val_accuracy: 0.0000e+00\n",
            "Epoch 79/100\n",
            "22/22 [==============================] - 8s 383ms/step - loss: 0.1858 - accuracy: 0.9259 - val_loss: 13.3611 - val_accuracy: 0.0000e+00\n",
            "Epoch 80/100\n",
            "22/22 [==============================] - 8s 382ms/step - loss: 0.1864 - accuracy: 0.9259 - val_loss: 13.4924 - val_accuracy: 0.0000e+00\n",
            "Epoch 81/100\n",
            "22/22 [==============================] - 8s 383ms/step - loss: 0.1856 - accuracy: 0.9259 - val_loss: 13.5056 - val_accuracy: 0.0000e+00\n",
            "Epoch 82/100\n",
            "22/22 [==============================] - 8s 380ms/step - loss: 0.1819 - accuracy: 0.9202 - val_loss: 13.4808 - val_accuracy: 0.0000e+00\n",
            "Epoch 83/100\n",
            "22/22 [==============================] - 10s 464ms/step - loss: 0.1801 - accuracy: 0.9231 - val_loss: 13.4505 - val_accuracy: 0.0000e+00\n",
            "Epoch 84/100\n",
            "22/22 [==============================] - 8s 375ms/step - loss: 0.1795 - accuracy: 0.9231 - val_loss: 13.4312 - val_accuracy: 0.0000e+00\n",
            "Epoch 85/100\n",
            "22/22 [==============================] - 8s 378ms/step - loss: 0.1776 - accuracy: 0.9174 - val_loss: 13.4273 - val_accuracy: 0.0000e+00\n",
            "Epoch 86/100\n",
            "22/22 [==============================] - 8s 380ms/step - loss: 0.1771 - accuracy: 0.9259 - val_loss: 13.3844 - val_accuracy: 0.0000e+00\n",
            "Epoch 87/100\n",
            "22/22 [==============================] - 8s 373ms/step - loss: 0.1769 - accuracy: 0.9202 - val_loss: 13.5562 - val_accuracy: 0.0000e+00\n",
            "Epoch 88/100\n",
            "22/22 [==============================] - 8s 374ms/step - loss: 0.1731 - accuracy: 0.9202 - val_loss: 13.5638 - val_accuracy: 0.0000e+00\n",
            "Epoch 89/100\n",
            "22/22 [==============================] - 8s 380ms/step - loss: 0.1711 - accuracy: 0.9259 - val_loss: 13.5459 - val_accuracy: 0.0000e+00\n",
            "Epoch 90/100\n",
            "22/22 [==============================] - 8s 386ms/step - loss: 0.1717 - accuracy: 0.9174 - val_loss: 13.5740 - val_accuracy: 0.0000e+00\n",
            "Epoch 91/100\n",
            "22/22 [==============================] - 8s 382ms/step - loss: 0.1723 - accuracy: 0.9031 - val_loss: 13.5884 - val_accuracy: 0.0000e+00\n",
            "Epoch 92/100\n",
            "22/22 [==============================] - 8s 377ms/step - loss: 0.1648 - accuracy: 0.9259 - val_loss: 13.5780 - val_accuracy: 0.0000e+00\n",
            "Epoch 93/100\n",
            "22/22 [==============================] - 8s 380ms/step - loss: 0.1654 - accuracy: 0.9202 - val_loss: 13.5795 - val_accuracy: 0.0000e+00\n",
            "Epoch 94/100\n",
            "22/22 [==============================] - 8s 380ms/step - loss: 0.1639 - accuracy: 0.9259 - val_loss: 13.5721 - val_accuracy: 0.0000e+00\n",
            "Epoch 95/100\n",
            "22/22 [==============================] - 8s 375ms/step - loss: 0.1636 - accuracy: 0.9174 - val_loss: 13.7075 - val_accuracy: 0.0000e+00\n",
            "Epoch 96/100\n",
            "22/22 [==============================] - 8s 377ms/step - loss: 0.1607 - accuracy: 0.9174 - val_loss: 13.5916 - val_accuracy: 0.0000e+00\n",
            "Epoch 97/100\n",
            "22/22 [==============================] - 8s 376ms/step - loss: 0.1631 - accuracy: 0.9088 - val_loss: 13.5851 - val_accuracy: 0.0000e+00\n",
            "Epoch 98/100\n",
            "22/22 [==============================] - 8s 378ms/step - loss: 0.1596 - accuracy: 0.9202 - val_loss: 13.6005 - val_accuracy: 0.0000e+00\n",
            "Epoch 99/100\n",
            "22/22 [==============================] - 8s 374ms/step - loss: 0.1594 - accuracy: 0.9174 - val_loss: 13.5878 - val_accuracy: 0.0000e+00\n",
            "Epoch 100/100\n",
            "22/22 [==============================] - 10s 459ms/step - loss: 0.1568 - accuracy: 0.9259 - val_loss: 13.6557 - val_accuracy: 0.0000e+00\n"
          ]
        }
      ]
    },
    {
      "cell_type": "code",
      "source": [
        "accr = model.evaluate(X_test,Y_test)\n",
        "print('Test set\\n  Loss: {:0.3f}\\n  Accuracy: {:0.3f}'.format(accr[0],accr[1]))"
      ],
      "metadata": {
        "id": "X7gHzd8Q7LYZ",
        "colab": {
          "base_uri": "https://localhost:8080/"
        },
        "outputId": "d3ffa7f4-8485-4c44-f75f-a98a5585bf0d"
      },
      "execution_count": 36,
      "outputs": [
        {
          "output_type": "stream",
          "name": "stdout",
          "text": [
            "2/2 [==============================] - 0s 64ms/step - loss: 13.8561 - accuracy: 0.0000e+00\n",
            "Test set\n",
            "  Loss: 13.856\n",
            "  Accuracy: 0.000\n"
          ]
        }
      ]
    },
    {
      "cell_type": "code",
      "source": [
        "plt.title('Loss')\n",
        "plt.plot(history.history['loss'], label='train')\n",
        "plt.plot(history.history['val_loss'], label='test')\n",
        "plt.legend()\n",
        "plt.show();"
      ],
      "metadata": {
        "id": "Afvft_HGgR0T",
        "colab": {
          "base_uri": "https://localhost:8080/",
          "height": 281
        },
        "outputId": "af8a3afe-79da-4d25-e684-d3bfb3eb92ec"
      },
      "execution_count": 37,
      "outputs": [
        {
          "output_type": "display_data",
          "data": {
            "text/plain": [
              "<Figure size 432x288 with 1 Axes>"
            ],
            "image/png": "[encoded data removed]"
          },
          "metadata": {
            "needs_background": "light"
          }
        }
      ]
    },
    {
      "cell_type": "code",
      "source": [
        "labels1=list(data[x2])\n",
        "labels2=list(data[x1])\n",
        "#labels1"
      ],
      "metadata": {
        "id": "jPwt1jCahDLn"
      },
      "execution_count": 38,
      "outputs": []
    },
    {
      "cell_type": "code",
      "source": [
        ""
      ],
      "metadata": {
        "id": "Zcz_dntFk2Ka"
      },
      "execution_count": null,
      "outputs": []
    },
    {
      "cell_type": "code",
      "source": [
        "new_complaint = ['blood circulation']\n",
        "seq = tokenizer.texts_to_sequences(new_complaint)\n",
        "padded = pad_sequences(seq, maxlen=MAX_SEQUENCE_LENGTH)\n",
        "pred = model.predict(padded)\n",
        "labels =labels1\n",
        "labels3=labels2\n",
        "for i in range(5):\n",
        "  print(labels[np.argsort(np.max(pred, axis=0))[-(i+1)]])\n",
        "  # print(labels3[np.argsort(np.max(pred, axis=0))[-(i+1)]])\n",
        "# pred"
      ],
      "metadata": {
        "id": "hbV6Zv36gR6J",
        "colab": {
          "base_uri": "https://localhost:8080/"
        },
        "outputId": "8fa7c295-e473-4f8d-cc86-29173962382a"
      },
      "execution_count": 39,
      "outputs": [
        {
          "output_type": "stream",
          "name": "stdout",
          "text": [
            "vasisthasana\n",
            "navasana\n",
            "halasana plough pose\n",
            "paschimottanasana back stretching pose\n",
            "rajakapotasana\n"
          ]
        }
      ]
    }
  ]
}